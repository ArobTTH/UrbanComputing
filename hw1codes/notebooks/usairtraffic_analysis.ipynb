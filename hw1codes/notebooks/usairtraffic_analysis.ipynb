{
 "cells": [
  {
   "cell_type": "code",
   "metadata": {
    "colab": {
     "base_uri": "https://localhost:8080/"
    },
    "id": "ZEudi_f6z0eJ",
    "outputId": "54f892d6-5ab3-4aeb-e924-f2298a83d4bb",
    "ExecuteTime": {
     "end_time": "2025-09-12T00:51:57.211351Z",
     "start_time": "2025-09-12T00:51:57.201094Z"
    }
   },
   "source": [
    "from google.colab import drive\n",
    "drive.mount('/content/gdrive/')"
   ],
   "outputs": [
    {
     "ename": "ModuleNotFoundError",
     "evalue": "No module named 'google'",
     "output_type": "error",
     "traceback": [
      "\u001B[1;31m---------------------------------------------------------------------------\u001B[0m",
      "\u001B[1;31mModuleNotFoundError\u001B[0m                       Traceback (most recent call last)",
      "Cell \u001B[1;32mIn[3], line 1\u001B[0m\n\u001B[1;32m----> 1\u001B[0m \u001B[38;5;28;01mfrom\u001B[39;00m \u001B[38;5;21;01mgoogle\u001B[39;00m\u001B[38;5;21;01m.\u001B[39;00m\u001B[38;5;21;01mcolab\u001B[39;00m \u001B[38;5;28;01mimport\u001B[39;00m drive\n\u001B[0;32m      2\u001B[0m drive\u001B[38;5;241m.\u001B[39mmount(\u001B[38;5;124m'\u001B[39m\u001B[38;5;124m/content/gdrive/\u001B[39m\u001B[38;5;124m'\u001B[39m)\n",
      "\u001B[1;31mModuleNotFoundError\u001B[0m: No module named 'google'"
     ]
    }
   ],
   "execution_count": 3
  },
  {
   "cell_type": "code",
   "metadata": {
    "id": "gVUrh8Sqz6Sp",
    "ExecuteTime": {
     "end_time": "2025-09-12T01:14:50.119605Z",
     "start_time": "2025-09-12T01:14:50.116573Z"
    }
   },
   "source": [
    "import os\n",
    "import sys\n",
    "dir_path = '/content/gdrive/My Drive/urbcomp_fall2025/assignment_1'\n",
    "sys.path.append(dir_path)"
   ],
   "outputs": [],
   "execution_count": 4
  },
  {
   "cell_type": "code",
   "execution_count": null,
   "metadata": {
    "colab": {
     "base_uri": "https://localhost:8080/"
    },
    "id": "P-qh6ctfxpol",
    "outputId": "1037ae13-27fc-4613-fe9b-185fcdf28520"
   },
   "outputs": [],
   "source": [
    "!python --version"
   ]
  },
  {
   "cell_type": "code",
   "execution_count": null,
   "metadata": {
    "colab": {
     "base_uri": "https://localhost:8080/"
    },
    "id": "pTFZpaSc13dh",
    "outputId": "426cf5bc-e797-46f0-8c81-13c57e835571"
   },
   "outputs": [],
   "source": [
    "# including modules\n",
    "%matplotlib inline\n",
    "import matplotlib.pyplot as plt\n",
    "import pandas as pd\n",
    "import datetime\n",
    "import seaborn as sns\n",
    "import operator\n",
    "import numpy as np\n",
    "import geopandas as gp\n",
    "%load_ext autoreload\n",
    "%autoreload 2\n",
    "from utils import airtraffic_helpers\n",
    "import networkx as nx\n",
    "import community\n",
    "import random\n",
    "from shapely.geometry import Point"
   ]
  },
  {
   "cell_type": "code",
   "execution_count": null,
   "metadata": {
    "colab": {
     "base_uri": "https://localhost:8080/"
    },
    "id": "9MQS9B8574tu",
    "outputId": "71d90d55-2977-47e1-92f0-09243a3f540c"
   },
   "outputs": [],
   "source": [
    "# Dometics airport details\n",
    "airports_df = pd.read_csv(\"{}/dataset/288804893_T_MASTER_CORD.csv\".format(dir_path))\n",
    "print('Shape of the dataframe:',airports_df.shape,'\\n')\n",
    "print('Printing one record:',airports_df[:1].T)"
   ]
  },
  {
   "cell_type": "code",
   "execution_count": null,
   "metadata": {
    "colab": {
     "base_uri": "https://localhost:8080/"
    },
    "id": "PhV2Rz5P74wl",
    "outputId": "a663e074-e5c9-42c5-a837-eb015fba0216"
   },
   "outputs": [],
   "source": [
    "# Dometics airlines connections\n",
    "trips_df = pd.read_csv(\"{}/dataset/288798530_T_T100D_MARKET_ALL_CARRIER.csv\".format(dir_path))\n",
    "print('Shape of the dataframe:',trips_df.shape,'\\n')\n",
    "print('Printing one record:',trips_df[:1].T)"
   ]
  },
  {
   "cell_type": "code",
   "execution_count": null,
   "metadata": {
    "id": "AAF9XZnF746U"
   },
   "outputs": [],
   "source": [
    "# Extracting edges - we consider a connection from one airport to another as an edge.\n",
    "# Note: these edges will be directed.\n",
    "edges = list(zip(trips_df['ORIGIN_AIRPORT_ID'],trips_df['DEST_AIRPORT_ID']))"
   ]
  },
  {
   "cell_type": "code",
   "metadata": {
    "id": "0yHeUYBNZn5I",
    "ExecuteTime": {
     "end_time": "2025-09-12T00:51:51.681150Z",
     "start_time": "2025-09-12T00:51:51.670460Z"
    }
   },
   "source": [
    "# creating directed and undirected graphs based on airports and their connections\n",
    "G = nx.DiGraph()\n",
    "G.add_edges_from(edges)\n",
    "G_undirected = nx.Graph()\n",
    "G_undirected.add_edges_from(edges)"
   ],
   "outputs": [
    {
     "ename": "NameError",
     "evalue": "name 'nx' is not defined",
     "output_type": "error",
     "traceback": [
      "\u001B[1;31m---------------------------------------------------------------------------\u001B[0m",
      "\u001B[1;31mNameError\u001B[0m                                 Traceback (most recent call last)",
      "Cell \u001B[1;32mIn[2], line 2\u001B[0m\n\u001B[0;32m      1\u001B[0m \u001B[38;5;66;03m# creating directed and undirected graphs based on airports and their connections\u001B[39;00m\n\u001B[1;32m----> 2\u001B[0m G \u001B[38;5;241m=\u001B[39m nx\u001B[38;5;241m.\u001B[39mDiGraph()\n\u001B[0;32m      3\u001B[0m G\u001B[38;5;241m.\u001B[39madd_edges_from(edges)\n\u001B[0;32m      4\u001B[0m G_undirected \u001B[38;5;241m=\u001B[39m nx\u001B[38;5;241m.\u001B[39mGraph()\n",
      "\u001B[1;31mNameError\u001B[0m: name 'nx' is not defined"
     ]
    }
   ],
   "execution_count": 2
  },
  {
   "cell_type": "code",
   "execution_count": null,
   "metadata": {
    "colab": {
     "base_uri": "https://localhost:8080/"
    },
    "id": "q58ekeDT75BT",
    "outputId": "ce640a48-a0f8-4751-e58b-3c5c98443fb1"
   },
   "outputs": [],
   "source": [
    "# printing the total number of nodes and edges of directed graph\n",
    "print('Total number of airports:',len(list(G.nodes)))\n",
    "print('Total number of connections:',len(list(G.edges)))"
   ]
  },
  {
   "cell_type": "code",
   "execution_count": null,
   "metadata": {
    "id": "_irNUueR75EB"
   },
   "outputs": [],
   "source": [
    "# creating a GeoDataframe for plotting airports on a map\n",
    "airport_ids = list(G.nodes)\n",
    "edgelist = list(G.edges)\n",
    "geo_stations = airtraffic_helpers.get_geodataframe_airports(airports_df,airport_ids)"
   ]
  },
  {
   "cell_type": "code",
   "execution_count": null,
   "metadata": {
    "colab": {
     "base_uri": "https://localhost:8080/",
     "height": 451
    },
    "id": "JbEERLjDEn8U",
    "outputId": "0065686e-5c5e-4eba-a396-bb4440462c74"
   },
   "outputs": [],
   "source": [
    "# reading the shape file of US\n",
    "shp_us = gp.GeoDataFrame.from_file(\"{}/dataset/Igismap/Alabama_AL4_US_Poly.shp\".format(dir_path))\n",
    "shp_us=shp_us.to_crs({'init':'epsg:4326'})\n",
    "shp_us.plot(figsize=(100,100),color='g',alpha=0.75)"
   ]
  },
  {
   "cell_type": "code",
   "execution_count": null,
   "metadata": {
    "colab": {
     "base_uri": "https://localhost:8080/",
     "height": 341
    },
    "id": "njb54xGlEn_T",
    "outputId": "c7c2b092-f6fe-4682-bf6b-e2858822b170"
   },
   "outputs": [],
   "source": [
    "# plotting the nodes in the shape file of US\n",
    "plt.style.use(\"default\")\n",
    "%matplotlib inline\n",
    "fig, ax = plt.subplots(1,1,figsize=(50,50))\n",
    "base = shp_us.plot(ax=ax, color='gray', alpha=0.2)\n",
    "geo_stations.plot(ax=base, marker=\"o\", color=\"r\", markersize=10,alpha=0.8, zorder=0)\n",
    "_ = ax.axis('off')\n",
    "ax.set_title(\"Plot of airports in United States\",fontsize=20)\n",
    "fig.tight_layout()\n",
    "fig.savefig(\"{}/figures/us_airports_nodes.pdf\".format(dir_path))"
   ]
  },
  {
   "cell_type": "code",
   "execution_count": null,
   "metadata": {
    "colab": {
     "base_uri": "https://localhost:8080/",
     "height": 537
    },
    "id": "4PAbEqmDEov0",
    "outputId": "8c212074-b98e-4311-ce98-edb98914c6a2"
   },
   "outputs": [],
   "source": [
    "# displaying the network based on actual geographical placement of nodes\n",
    "position_dict = {} # will contain the node coordinates\n",
    "for item in list(geo_stations.station_ids):\n",
    "  position_dict[item] = geo_stations[geo_stations.station_ids==item].geometry.values[0].x,geo_stations[geo_stations.station_ids==item].geometry.values[0].y\n",
    "fig, ax = plt.subplots(1,1,figsize=(100,40))\n",
    "nx.draw(G,pos=position_dict)\n",
    "fig.tight_layout()\n",
    "fig.savefig(\"{}/figures/us_airports_network_withposition.pdf\".format(dir_path))"
   ]
  },
  {
   "cell_type": "code",
   "execution_count": null,
   "metadata": {
    "colab": {
     "base_uri": "https://localhost:8080/",
     "height": 1000
    },
    "id": "zsz_qBFX_fUz",
    "outputId": "8285c007-765c-460f-c145-75034f161551"
   },
   "outputs": [],
   "source": [
    "# displaying the network with optimal placement of nodes\n",
    "airtraffic_helpers.plot_network(G,title=\"\",edgealpha=0.08,node_dist=1,nodesize=20,savefig=False,figsize=(15,15))"
   ]
  }
 ],
 "metadata": {
  "colab": {
   "provenance": [],
   "toc_visible": true
  },
  "kernelspec": {
   "display_name": "Python 3 (ipykernel)",
   "name": "python3",
   "language": "python"
  }
 },
 "nbformat": 4,
 "nbformat_minor": 0
}
